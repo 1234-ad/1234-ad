{
  "nbformat": 4,
  "nbformat_minor": 0,
  "metadata": {
    "colab": {
      "provenance": [],
      "authorship_tag": "ABX9TyM7SpuTRpwSVZOutidXoUvG",
      "include_colab_link": true
    },
    "kernelspec": {
      "name": "python3",
      "display_name": "Python 3"
    },
    "language_info": {
      "name": "python"
    }
  },
  "cells": [
    {
      "cell_type": "markdown",
      "metadata": {
        "id": "view-in-github",
        "colab_type": "text"
      },
      "source": [
        "<a href=\"https://colab.research.google.com/github/1234-ad/1234-ad/blob/main/Task_1_Data_Decoder.ipynb\" target=\"_parent\"><img src=\"https://colab.research.google.com/assets/colab-badge.svg\" alt=\"Open In Colab\"/></a>"
      ]
    },
    {
      "cell_type": "code",
      "execution_count": 2,
      "metadata": {
        "colab": {
          "base_uri": "https://localhost:8080/"
        },
        "id": "jLyetzKz5fYb",
        "outputId": "fc66a406-f662-486f-b4b0-4dc36d7128c4"
      },
      "outputs": [
        {
          "output_type": "stream",
          "name": "stdout",
          "text": [
            "First 10 Rows:\n",
            "   PassengerId  Survived  Pclass  \\\n",
            "0            1         0       3   \n",
            "1            2         1       1   \n",
            "2            3         1       3   \n",
            "3            4         1       1   \n",
            "4            5         0       3   \n",
            "5            6         0       3   \n",
            "6            7         0       1   \n",
            "7            8         0       3   \n",
            "8            9         1       3   \n",
            "9           10         1       2   \n",
            "\n",
            "                                                Name     Sex   Age  SibSp  \\\n",
            "0                            Braund, Mr. Owen Harris    male  22.0      1   \n",
            "1  Cumings, Mrs. John Bradley (Florence Briggs Th...  female  38.0      1   \n",
            "2                             Heikkinen, Miss. Laina  female  26.0      0   \n",
            "3       Futrelle, Mrs. Jacques Heath (Lily May Peel)  female  35.0      1   \n",
            "4                           Allen, Mr. William Henry    male  35.0      0   \n",
            "5                                   Moran, Mr. James    male   NaN      0   \n",
            "6                            McCarthy, Mr. Timothy J    male  54.0      0   \n",
            "7                     Palsson, Master. Gosta Leonard    male   2.0      3   \n",
            "8  Johnson, Mrs. Oscar W (Elisabeth Vilhelmina Berg)  female  27.0      0   \n",
            "9                Nasser, Mrs. Nicholas (Adele Achem)  female  14.0      1   \n",
            "\n",
            "   Parch            Ticket     Fare Cabin Embarked  \n",
            "0      0         A/5 21171   7.2500   NaN        S  \n",
            "1      0          PC 17599  71.2833   C85        C  \n",
            "2      0  STON/O2. 3101282   7.9250   NaN        S  \n",
            "3      0            113803  53.1000  C123        S  \n",
            "4      0            373450   8.0500   NaN        S  \n",
            "5      0            330877   8.4583   NaN        Q  \n",
            "6      0             17463  51.8625   E46        S  \n",
            "7      1            349909  21.0750   NaN        S  \n",
            "8      2            347742  11.1333   NaN        S  \n",
            "9      0            237736  30.0708   NaN        C  \n",
            "\n",
            "Columns & Data Types:\n",
            "PassengerId      int64\n",
            "Survived         int64\n",
            "Pclass           int64\n",
            "Name            object\n",
            "Sex             object\n",
            "Age            float64\n",
            "SibSp            int64\n",
            "Parch            int64\n",
            "Ticket          object\n",
            "Fare           float64\n",
            "Cabin           object\n",
            "Embarked        object\n",
            "dtype: object\n",
            "\n",
            "Missing Values in Each Column:\n",
            "PassengerId      0\n",
            "Survived         0\n",
            "Pclass           0\n",
            "Name             0\n",
            "Sex              0\n",
            "Age            177\n",
            "SibSp            0\n",
            "Parch            0\n",
            "Ticket           0\n",
            "Fare             0\n",
            "Cabin          687\n",
            "Embarked         2\n",
            "dtype: int64\n",
            "\n",
            "Basic Stats for 'Age':\n",
            "Mean: 29.69911764705882\n",
            "Median: 28.0\n",
            "Min: 0.42\n",
            "Max: 80.0\n",
            "\n",
            "Basic Stats for 'Fare':\n",
            "Mean: 32.204207968574636\n",
            "Median: 14.4542\n",
            "Min: 0.0\n",
            "Max: 512.3292\n"
          ]
        }
      ],
      "source": [
        "# TASK 1 - DATA DECODER\n",
        "\n",
        "# STEP 1: Import Libraries\n",
        "import pandas as pd\n",
        "\n",
        "# STEP 2: Load Dataset\n",
        "# Example: Titanic dataset from raw GitHub\n",
        "url = 'https://raw.githubusercontent.com/datasciencedojo/datasets/master/titanic.csv'\n",
        "df = pd.read_csv(url)\n",
        "\n",
        "# STEP 3: Display First 10 Rows\n",
        "print(\"First 10 Rows:\")\n",
        "print(df.head(10))\n",
        "\n",
        "# STEP 4: List All Columns & Data Types\n",
        "print(\"\\nColumns & Data Types:\")\n",
        "print(df.dtypes)\n",
        "\n",
        "# STEP 5: Count Missing Values in Each Column\n",
        "print(\"\\nMissing Values in Each Column:\")\n",
        "print(df.isnull().sum())\n",
        "\n",
        "# STEP 6: Basic Stats for 2 Numeric Columns (e.g., 'Age' & 'Fare')\n",
        "print(\"\\nBasic Stats for 'Age':\")\n",
        "print(f\"Mean: {df['Age'].mean()}\")\n",
        "print(f\"Median: {df['Age'].median()}\")\n",
        "print(f\"Min: {df['Age'].min()}\")\n",
        "print(f\"Max: {df['Age'].max()}\")\n",
        "\n",
        "print(\"\\nBasic Stats for 'Fare':\")\n",
        "print(f\"Mean: {df['Fare'].mean()}\")\n",
        "print(f\"Median: {df['Fare'].median()}\")\n",
        "print(f\"Min: {df['Fare'].min()}\")\n",
        "print(f\"Max: {df['Fare'].max()}\")"
      ]
    }
  ]
}