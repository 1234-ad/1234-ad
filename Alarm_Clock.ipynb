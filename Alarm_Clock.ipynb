{
  "nbformat": 4,
  "nbformat_minor": 0,
  "metadata": {
    "colab": {
      "provenance": [],
      "authorship_tag": "ABX9TyPC5ZWair/AIhYEUtGgs0zd",
      "include_colab_link": true
    },
    "kernelspec": {
      "name": "python3",
      "display_name": "Python 3"
    },
    "language_info": {
      "name": "python"
    }
  },
  "cells": [
    {
      "cell_type": "markdown",
      "metadata": {
        "id": "view-in-github",
        "colab_type": "text"
      },
      "source": [
        "<a href=\"https://colab.research.google.com/github/1234-ad/1234-ad/blob/main/Alarm_Clock.ipynb\" target=\"_parent\"><img src=\"https://colab.research.google.com/assets/colab-badge.svg\" alt=\"Open In Colab\"/></a>"
      ]
    },
    {
      "cell_type": "code",
      "source": [
        "import time\n",
        "\n",
        "import webbrowser\n",
        "\n",
        "set_alarm = input(\"set the website alarm as H:M:S\")\n",
        "\n",
        "url = input(\"Enter the website URL\")\n",
        "\n",
        "\n",
        "actual_time = time.strftime(\"%I:%M:%S\")\n",
        "\n",
        "while (actual_time != set_alarm):\n",
        "    print(\"The alarm is \" + actual_time)\n",
        "    actual_time = time.strftime(\"%I:%M:%S\")\n",
        "    time.sleep(1)\n",
        "\n",
        "if (actual_time == set_alarm):\n",
        "    print(\"your webpage is opening\")\n",
        "    webbrowser.open(url)\n",
        "\n",
        "import tkinter as tk\n",
        "import time"
      ],
      "metadata": {
        "colab": {
          "base_uri": "https://localhost:8080/"
        },
        "id": "iuMdUlJJuqef",
        "outputId": "9bc760e6-5ced-4fb4-9e93-40c3a38d097b"
      },
      "execution_count": null,
      "outputs": [
        {
          "name": "stdout",
          "output_type": "stream",
          "text": [
            "set the website alarm as H:M:S1:3:4\n"
          ]
        }
      ]
    }
  ]
}