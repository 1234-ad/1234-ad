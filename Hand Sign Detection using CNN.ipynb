{
  "cells": [
    {
      "cell_type": "markdown",
      "metadata": {
        "id": "view-in-github",
        "colab_type": "text"
      },
      "source": [
        "<a href=\"https://colab.research.google.com/github/1234-ad/1234-ad/blob/main/Hand%20Sign%20Detection%20using%20CNN.ipynb\" target=\"_parent\"><img src=\"https://colab.research.google.com/assets/colab-badge.svg\" alt=\"Open In Colab\"/></a>"
      ]
    },
    {
      "cell_type": "markdown",
      "source": [
        "###The Major Project"
      ],
      "metadata": {
        "id": "RC34waafOXgD"
      }
    },
    {
      "cell_type": "markdown",
      "source": [
        "This project is made by our group having group members:-\n",
        "\n",
        "\n",
        "#1. Sparsh Gupta  \n",
        "#2. Aditya Rastogi\n",
        "#3. Ashay Chaudhari\n",
        "#4. Yash Chindam\n",
        "#5. Radhika Khandelwal\n",
        "#6. Aravinth K\n",
        "#7. SURYA R S\n",
        "\n",
        "#Before checking this project plz upload csv file from your side as it might not show when i will share the link .And before moving to the project please read the below...\n"
      ],
      "metadata": {
        "id": "Nm6KF7_FObcZ"
      }
    },
    {
      "cell_type": "markdown",
      "source": [
        "We have made the project till the model 1 as we aren't able to connect with the project details given to us.In details, it was given the X and Y files containimg the arrays of 0 and 1..we don't know what is the role of X and Y files in that..as the project is only related to hand sign detection so we don't understand to how to connect the image detection with these files.\n",
        "\n",
        "We even try to reach the mentor but mentor only provided the information regarding the reading of these X and Y files which we have already done..rather then giving the link between these files and the hand sign image detection process. So,we are sorry that we are able to do this much project only due to lack of information.We hope you understand the situation....\n"
      ],
      "metadata": {
        "id": "zw1FAwc_SwDI"
      }
    },
    {
      "cell_type": "code",
      "execution_count": null,
      "metadata": {
        "id": "8jq_6NbTlvhA"
      },
      "outputs": [],
      "source": [
        "#required libraries\n",
        "import math\n",
        "import cv2\n",
        "import numpy as np\n",
        "import matplotlib.pyplot as plt\n",
        "from sklearn.model_selection import train_test_split\n",
        "import tensorflow as tf\n",
        "from tensorflow.python.framework import ops\n",
        "import keras\n",
        "from keras import backend as k\n",
        "from tensorflow.keras.utils import to_categorical"
      ]
    },
    {
      "cell_type": "code",
      "execution_count": null,
      "metadata": {
        "colab": {
          "base_uri": "https://localhost:8080/"
        },
        "id": "EXJnAUcm4uIx",
        "outputId": "3b400547-3cfa-4302-d25a-469b5e20b2f1"
      },
      "outputs": [
        {
          "output_type": "stream",
          "name": "stdout",
          "text": [
            "The data is:\n",
            "[[[0.46666667 0.4745098  0.47843137 ... 0.5176471  0.5137255  0.5019608 ]\n",
            "  [0.49803922 0.4862745  0.4862745  ... 0.5254902  0.5176471  0.50980395]\n",
            "  [0.54509807 0.49411765 0.49019608 ... 0.5294118  0.5254902  0.5137255 ]\n",
            "  ...\n",
            "  [0.5019608  0.5137255  0.5176471  ... 0.5529412  0.54509807 0.53333336]\n",
            "  [0.49803922 0.5058824  0.5137255  ... 0.54509807 0.53333336 0.52156866]\n",
            "  [0.49019608 0.49803922 0.5019608  ... 0.5294118  0.52156866 0.50980395]]\n",
            "\n",
            " [[0.59607846 0.60784316 0.61960787 ... 0.4627451  0.4509804  0.44313726]\n",
            "  [0.60784316 0.61960787 0.6313726  ... 0.4745098  0.4627451  0.4509804 ]\n",
            "  [0.6156863  0.627451   0.6431373  ... 0.4862745  0.4745098  0.4627451 ]\n",
            "  ...\n",
            "  [0.50980395 0.5176471  0.5254902  ... 0.40392157 0.39607844 0.3882353 ]\n",
            "  [0.5019608  0.50980395 0.5176471  ... 0.4        0.39215687 0.38431373]\n",
            "  [0.49411765 0.5058824  0.50980395 ... 0.3882353  0.38039216 0.37254903]]\n",
            "\n",
            " [[0.5882353  0.6039216  0.61960787 ... 0.53333336 0.5137255  0.5019608 ]\n",
            "  [0.5921569  0.6117647  0.6156863  ... 0.5411765  0.52156866 0.50980395]\n",
            "  [0.5882353  0.61960787 0.627451   ... 0.54901963 0.5294118  0.5137255 ]\n",
            "  ...\n",
            "  [0.4745098  0.4862745  0.49411765 ... 0.42745098 0.41960785 0.40784314]\n",
            "  [0.47058824 0.47843137 0.4862745  ... 0.41568628 0.4117647  0.4       ]\n",
            "  [0.45882353 0.47058824 0.47843137 ... 0.40392157 0.4        0.3882353 ]]\n",
            "\n",
            " ...\n",
            "\n",
            " [[0.5254902  0.54509807 0.5568628  ... 0.49803922 0.49019608 0.4862745 ]\n",
            "  [0.5372549  0.5529412  0.5686275  ... 0.5019608  0.49803922 0.49019608]\n",
            "  [0.54509807 0.5568628  0.57254905 ... 0.5058824  0.49803922 0.49019608]\n",
            "  ...\n",
            "  [0.5058824  0.50980395 0.5137255  ... 0.4862745  0.47843137 0.47058824]\n",
            "  [0.49411765 0.5058824  0.50980395 ... 0.47843137 0.47058824 0.4627451 ]\n",
            "  [0.48235294 0.49411765 0.5058824  ... 0.47058824 0.4627451  0.45490196]]\n",
            "\n",
            " [[0.5137255  0.5254902  0.5372549  ... 0.45490196 0.44705883 0.43529412]\n",
            "  [0.5176471  0.53333336 0.54901963 ... 0.46666667 0.45882353 0.44705883]\n",
            "  [0.5254902  0.5411765  0.56078434 ... 0.4745098  0.4627451  0.4509804 ]\n",
            "  ...\n",
            "  [0.53333336 0.5411765  0.5529412  ... 0.54509807 0.5372549  0.5294118 ]\n",
            "  [0.52156866 0.53333336 0.54509807 ... 0.5372549  0.5294118  0.52156866]\n",
            "  [0.5137255  0.5254902  0.5372549  ... 0.5294118  0.5254902  0.5137255 ]]\n",
            "\n",
            " [[0.92941177 0.9372549  0.9372549  ... 0.9647059  0.972549   0.972549  ]\n",
            "  [0.92941177 0.93333334 0.93333334 ... 0.95686275 0.9607843  0.9647059 ]\n",
            "  [0.93333334 0.93333334 0.93333334 ... 0.9490196  0.9490196  0.9529412 ]\n",
            "  ...\n",
            "  [0.76862746 0.76862746 0.77254903 ... 0.73333335 0.74509805 0.68235296]\n",
            "  [0.7647059  0.7647059  0.76862746 ... 0.7254902  0.7372549  0.6784314 ]\n",
            "  [0.75686276 0.75686276 0.7607843  ... 0.72156864 0.73333335 0.67058825]]]\n"
          ]
        }
      ],
      "source": [
        "x= np.load('/content/X.npy')\n",
        "print(\"The data is:\")\n",
        "print(x)"
      ]
    },
    {
      "cell_type": "code",
      "execution_count": null,
      "metadata": {
        "colab": {
          "base_uri": "https://localhost:8080/"
        },
        "id": "P9xLksg_qKaf",
        "outputId": "99bc0e53-fcbb-4edf-a8b8-90429d302216"
      },
      "outputs": [
        {
          "output_type": "stream",
          "name": "stdout",
          "text": [
            "float32\n"
          ]
        }
      ],
      "source": [
        "print(x.dtype)"
      ]
    },
    {
      "cell_type": "code",
      "execution_count": null,
      "metadata": {
        "colab": {
          "base_uri": "https://localhost:8080/"
        },
        "id": "U8gXl-5cnVse",
        "outputId": "76707d3e-610e-4269-998f-501d16bdc2f2"
      },
      "outputs": [
        {
          "output_type": "stream",
          "name": "stdout",
          "text": [
            "The data is:\n",
            "[[1. 0. 0. ... 0. 0. 0.]\n",
            " [1. 0. 0. ... 0. 0. 0.]\n",
            " [1. 0. 0. ... 0. 0. 0.]\n",
            " ...\n",
            " [0. 0. 0. ... 0. 0. 1.]\n",
            " [0. 0. 0. ... 0. 0. 1.]\n",
            " [0. 0. 0. ... 0. 0. 1.]]\n"
          ]
        }
      ],
      "source": [
        "y = np.load('/content/Y.npy')\n",
        "print(\"The data is:\")\n",
        "print(y)"
      ]
    },
    {
      "cell_type": "code",
      "execution_count": null,
      "metadata": {
        "colab": {
          "base_uri": "https://localhost:8080/"
        },
        "id": "Am6_qgfmlmqd",
        "outputId": "38358c00-deb4-4007-fc3f-9713fd766b7c"
      },
      "outputs": [
        {
          "output_type": "stream",
          "name": "stdout",
          "text": [
            "float64\n"
          ]
        }
      ],
      "source": [
        "print(y.dtype)"
      ]
    },
    {
      "cell_type": "code",
      "source": [
        "x_train,x_test,y_train,y_test = train_test_split(f1,test_dataset,test_size = 0.3)\n",
        "print(\"x_train\",x_train.shape)\n",
        "print(\"x_test\",x_test.shape)\n",
        "print(\"y_train\",y_train.shape)\n",
        "print(\"y_test\",y_test.shape)"
      ],
      "metadata": {
        "colab": {
          "base_uri": "https://localhost:8080/"
        },
        "id": "a0ZGNPv69nEh",
        "outputId": "2a0afded-58a8-4ea6-9199-e48323ba5284"
      },
      "execution_count": null,
      "outputs": [
        {
          "output_type": "stream",
          "name": "stdout",
          "text": [
            "x_train (1443, 64, 64)\n",
            "x_test (619, 64, 64)\n",
            "y_train (1443, 10)\n",
            "y_test (619, 10)\n"
          ]
        }
      ]
    },
    {
      "cell_type": "markdown",
      "source": [
        "### **Building Multiclass ANN Classification Model**"
      ],
      "metadata": {
        "id": "FVzZYmts__Ck"
      }
    },
    {
      "cell_type": "code",
      "source": [
        "#Normalization of dataset Pixel values of the images will be from 0 to 255, so we'll normalize the dataset by dividing pixel values by 255.\n",
        "x_train=x_train/255\n",
        "x_test=x_test/255"
      ],
      "metadata": {
        "id": "SkxKnAFSAja1"
      },
      "execution_count": null,
      "outputs": []
    },
    {
      "cell_type": "code",
      "source": [
        "#converting class values to binary class metric for training and test set\n",
        "y_train = tf.keras.utils.to_categorical (y_train, num_classes=None)\n",
        "y_test=tf.keras.utils.to_categorical (y_test,  num_classes=None)\n",
        "print (\"number of training examples = \" + str(x_train.shape[0]))\n",
        "\n",
        "print (\"number of test examples =  \" + str(x_test.shape[0]))\n",
        "\n",
        "print (\"X_train shape:  \" + str(x_train.shape))\n",
        "\n",
        "print (\"Y_train shape:  \" + str(y_train.shape))\n",
        "\n",
        "print (\"X_test shape: \" + str(x_test.shape))\n",
        "\n",
        "print (\"Y_test shape:  \" + str(y_test.shape))\n"
      ],
      "metadata": {
        "colab": {
          "base_uri": "https://localhost:8080/"
        },
        "id": "EydoJ3HuAonc",
        "outputId": "aea98ab6-1750-4968-bebb-184557f5eb27"
      },
      "execution_count": null,
      "outputs": [
        {
          "output_type": "stream",
          "name": "stdout",
          "text": [
            "number of training examples = 1443\n",
            "number of test examples =  619\n",
            "X_train shape:  (1443, 64, 64)\n",
            "Y_train shape:  (1443, 10, 2)\n",
            "X_test shape: (619, 64, 64)\n",
            "Y_test shape:  (619, 10, 2)\n"
          ]
        }
      ]
    },
    {
      "cell_type": "code",
      "source": [
        "# from tensorflow.keras import layers\n",
        "# x_train= layers.InputLayer(input_shape=(2,2,1))\n",
        "# conv1 = layers.Conv2D(3,(2,2))\n",
        "# X= np.ones((2,2))\n",
        "# X =X.reshape(1,X.shape[0],X.shape[1],1) # shape of X is 4D, (1, 2, 2, 1)\n",
        "# conv1(x_train(X))\n",
        "# x_train = np.array(X)\n",
        "y_train.shape"
      ],
      "metadata": {
        "colab": {
          "base_uri": "https://localhost:8080/"
        },
        "id": "xMs9XvePAuD2",
        "outputId": "714d7121-7e2f-4dcd-abc8-2a787fe14b57"
      },
      "execution_count": null,
      "outputs": [
        {
          "output_type": "execute_result",
          "data": {
            "text/plain": [
              "(1443, 10, 2)"
            ]
          },
          "metadata": {},
          "execution_count": 83
        }
      ]
    },
    {
      "cell_type": "code",
      "source": [
        "#importing all modules from keras to create CNN Architecture\n",
        "from keras.models import Sequential\n",
        "from keras.layers import Conv2D,MaxPooling2D,Activation\n",
        "from keras.layers import Flatten,Dense,Dropout\n",
        "from tensorflow.keras.layers import Dense,ReLU,LeakyReLU\n",
        "from tensorflow.keras.activations import softmax,elu,tanh,linear\n",
        "from tensorflow.keras.optimizers import Adam,RMSprop,SGD,Adadelta,Adagrad"
      ],
      "metadata": {
        "id": "ckny3dzQBl1K"
      },
      "execution_count": null,
      "outputs": []
    },
    {
      "cell_type": "code",
      "source": [
        "# m1 model"
      ],
      "metadata": {
        "id": "m6MYHq6RBcOc"
      },
      "execution_count": null,
      "outputs": []
    },
    {
      "cell_type": "code",
      "source": [
        "#we have to change the model for 3d input , below model is for 4d input\n",
        "# model=Sequential() #initialize Sequential model\n",
        "# model.add(Conv2D(8, (4,4), strides=(1,1),padding='same'))\n",
        "# model.add(Activation ('relu'))\n",
        "# model.add(MaxPooling2D((8,8), strides=(8,8), padding='same'))\n",
        "# model.add(Conv2D(16, (2, 2), strides=(1,1), padding='same'))\n",
        "# model.add(Activation ('relu'))\n",
        "# model.add(MaxPooling2D((4,4), strides=(4,4), padding='same'))\n",
        "# model.add(Flatten())\n",
        "# model.add(Dense(6,))\n",
        "# model.add(Activation ('softmax'))\n",
        "m1 =Sequential()\n",
        "m1.add(keras.layers.Conv2D(32, (3, 3), activation='relu', input_shape=(32, 32, 3)))\n",
        "m1.add(keras.layers.MaxPooling2D((2, 2)))\n",
        "m1.add(keras.layers.Conv2D(64, (3, 3), activation='relu'))\n",
        "m1.add(keras.layers.MaxPooling2D((2, 2)))\n",
        "m1.add(keras.layers.Conv2D(64, (3, 3), activation='relu'))\n",
        "m1.summary()"
      ],
      "metadata": {
        "colab": {
          "base_uri": "https://localhost:8080/"
        },
        "id": "y8a1P7M76nEY",
        "outputId": "134e4a06-014e-45bc-cfb8-67cfa47f66e5"
      },
      "execution_count": null,
      "outputs": [
        {
          "output_type": "stream",
          "name": "stdout",
          "text": [
            "Model: \"sequential_7\"\n",
            "_________________________________________________________________\n",
            " Layer (type)                Output Shape              Param #   \n",
            "=================================================================\n",
            " conv2d_9 (Conv2D)           (None, 30, 30, 32)        896       \n",
            "                                                                 \n",
            " max_pooling2d_6 (MaxPooling  (None, 15, 15, 32)       0         \n",
            " 2D)                                                             \n",
            "                                                                 \n",
            " conv2d_10 (Conv2D)          (None, 13, 13, 64)        18496     \n",
            "                                                                 \n",
            " max_pooling2d_7 (MaxPooling  (None, 6, 6, 64)         0         \n",
            " 2D)                                                             \n",
            "                                                                 \n",
            " conv2d_11 (Conv2D)          (None, 4, 4, 64)          36928     \n",
            "                                                                 \n",
            "=================================================================\n",
            "Total params: 56,320\n",
            "Trainable params: 56,320\n",
            "Non-trainable params: 0\n",
            "_________________________________________________________________\n"
          ]
        }
      ]
    },
    {
      "cell_type": "code",
      "source": [
        "m1.add(keras.layers.Flatten())\n",
        "m1.add(keras.layers.Dense(64, activation='relu'))\n",
        "m1.add(keras.layers.Dense(10))\n",
        "m1.summary()"
      ],
      "metadata": {
        "colab": {
          "base_uri": "https://localhost:8080/"
        },
        "id": "zAM1UTrh6ugL",
        "outputId": "524f8272-24d0-4571-f36b-b03d66356714"
      },
      "execution_count": null,
      "outputs": [
        {
          "output_type": "stream",
          "name": "stdout",
          "text": [
            "Model: \"sequential_7\"\n",
            "_________________________________________________________________\n",
            " Layer (type)                Output Shape              Param #   \n",
            "=================================================================\n",
            " conv2d_9 (Conv2D)           (None, 30, 30, 32)        896       \n",
            "                                                                 \n",
            " max_pooling2d_6 (MaxPooling  (None, 15, 15, 32)       0         \n",
            " 2D)                                                             \n",
            "                                                                 \n",
            " conv2d_10 (Conv2D)          (None, 13, 13, 64)        18496     \n",
            "                                                                 \n",
            " max_pooling2d_7 (MaxPooling  (None, 6, 6, 64)         0         \n",
            " 2D)                                                             \n",
            "                                                                 \n",
            " conv2d_11 (Conv2D)          (None, 4, 4, 64)          36928     \n",
            "                                                                 \n",
            " flatten_4 (Flatten)         (None, 1024)              0         \n",
            "                                                                 \n",
            " dense_17 (Dense)            (None, 64)                65600     \n",
            "                                                                 \n",
            " dense_18 (Dense)            (None, 10)                650       \n",
            "                                                                 \n",
            "=================================================================\n",
            "Total params: 122,570\n",
            "Trainable params: 122,570\n",
            "Non-trainable params: 0\n",
            "_________________________________________________________________\n"
          ]
        }
      ]
    },
    {
      "cell_type": "code",
      "source": [],
      "metadata": {
        "id": "aV67AFdBOJGX"
      },
      "execution_count": null,
      "outputs": []
    }
  ],
  "metadata": {
    "colab": {
      "provenance": [],
      "include_colab_link": true
    },
    "kernelspec": {
      "display_name": "Python 3",
      "name": "python3"
    },
    "language_info": {
      "name": "python"
    }
  },
  "nbformat": 4,
  "nbformat_minor": 0
}